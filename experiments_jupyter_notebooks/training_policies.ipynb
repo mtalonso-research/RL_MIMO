{
 "cells": [
  {
   "cell_type": "code",
   "execution_count": null,
   "metadata": {},
   "outputs": [],
   "source": [
    "import warnings\n",
    "import os\n",
    "import sys\n",
    "from math import comb\n",
    "import torch\n",
    "warnings.filterwarnings('ignore')\n",
    "\n",
    "project_root = os.path.abspath(\"..\")  \n",
    "if project_root not in sys.path:\n",
    "    sys.path.insert(0, project_root)\n",
    "from src.rl_environment import defining_environments\n",
    "from src.rl_policy import UnifiedPolicy\n",
    "from src.cortical_estimator import CORTICAL\n",
    "from src.ba_estimator import MI_ESTIMATOR\n",
    "from src.utils import set_seed, train_cases"
   ]
  },
  {
   "cell_type": "code",
   "execution_count": null,
   "metadata": {},
   "outputs": [],
   "source": [
    "set_seed(42)\n",
    "\n",
    "dimension = 2\n",
    "num_thresholds = 4\n",
    "alphabet_size = int(sum(comb(num_thresholds, k) for k in range(dimension + 1)))\n",
    "box_param = 1.5\n",
    "mi_estimator = 'BA'\n",
    "\n",
    "thrsh = None\n",
    "if dimension==1.0 and num_thresholds==1: thrsh = torch.tensor([1.0,0.0])\n",
    "elif dimension==1.0 and num_thresholds==2: thrsh = torch.tensor([1.0,-0.5,1.0,0.5])\n",
    "elif dimension==1.0 and num_thresholds==3: thrsh = torch.tensor([1.0,-0.5,1.0,0.0,1.0,0.5])\n",
    "elif dimension==2.0 and num_thresholds==2: thrsh = torch.tensor([1.0,0.0,0.0,0.0,1.0,0.0])\n",
    "elif dimension==2.0 and num_thresholds==3: thrsh = torch.tensor([0.0,1.0,0.0,1.0,0.0,-0.25,1.0,0.0,0.25])\n",
    "elif dimension==2.0 and num_thresholds==4: thrsh = torch.tensor([1.0,0.0,-0.25,1.0,0.0,0.25,0.0,1.0,0.25,0.0,1.0,-0.25])\n",
    "\n",
    "num_envs, max_steps, patience, num_episodes = 10, 2000, 100, 5\n",
    "norm_patience = 2000, 2000\n",
    "kl_coeff = 0.3\n",
    "lr = 1e-3\n",
    "\n",
    "if mi_estimator == 'BA':\n",
    "    mi_est = MI_ESTIMATOR(dimension,box_param,'identity-csi',10000)\n",
    "elif mi_estimator == 'CORTICAL':\n",
    "    mi_est = CORTICAL((512,dimension,alphabet_size,num_thresholds,num_envs),alphas=[1.0, 0.5, 0.1, 0.01],\n",
    "                    lambda_entropy=0.3,cost_coef=10.0,box_param=box_param)\n",
    "    mi_est.load_models('./models/cortical_models/')\n",
    "    \n",
    "policy = UnifiedPolicy(dimension,alphabet_size,num_thresholds,box_param,kl_coeff,mi_est,policy_scale=3)\n",
    "\n",
    "run_id = 'run0'\n",
    "envs,thrsh,qtpts = defining_environments(dimension, num_thresholds, alphabet_size, box_param, \n",
    "                                         (-10.0,40.0), num_envs, max_steps, patience, mi_est, \n",
    "                                         norm_patience,True, False,thrsh)\n",
    "fig = envs[0].render()\n",
    "fig.show()\n",
    "policy = train_cases(dimension,num_thresholds,alphabet_size,box_param,num_envs,max_steps,patience,num_episodes,norm_patience,lr,mi_est,policy,run_id)"
   ]
  },
  {
   "cell_type": "code",
   "execution_count": null,
   "metadata": {},
   "outputs": [],
   "source": []
  }
 ],
 "metadata": {
  "kernelspec": {
   "display_name": "base",
   "language": "python",
   "name": "python3"
  },
  "language_info": {
   "codemirror_mode": {
    "name": "ipython",
    "version": 3
   },
   "file_extension": ".py",
   "mimetype": "text/x-python",
   "name": "python",
   "nbconvert_exporter": "python",
   "pygments_lexer": "ipython3",
   "version": "3.12.4"
  }
 },
 "nbformat": 4,
 "nbformat_minor": 2
}

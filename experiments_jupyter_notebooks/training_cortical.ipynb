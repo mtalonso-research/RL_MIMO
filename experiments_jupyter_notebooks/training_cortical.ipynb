{
 "cells": [
  {
   "cell_type": "code",
   "execution_count": null,
   "metadata": {},
   "outputs": [],
   "source": [
    "import torch\n",
    "from math import comb\n",
    "import warnings\n",
    "import os\n",
    "import sys\n",
    "warnings.filterwarnings('ignore')\n",
    "\n",
    "project_root = os.path.abspath(\"..\")  \n",
    "if project_root not in sys.path:\n",
    "    sys.path.insert(0, project_root)\n",
    "from src.cortical_estimator import CORTICAL\n",
    "from src.utils import set_seed"
   ]
  },
  {
   "cell_type": "code",
   "execution_count": null,
   "metadata": {},
   "outputs": [],
   "source": [
    "num_batches = 10\n",
    "sample_size = 10\n",
    "\n",
    "dimension = 1\n",
    "num_thresholds = 1\n",
    "alphabet_size = int(sum(comb(num_thresholds, k) for k in range(dimension + 1)))\n",
    "\n",
    "if dimension == 2:\n",
    "    box_param = 1.5 \n",
    "elif dimension == 1:\n",
    "    box_param = max(1.5,1.0 + int(num_thresholds/2) * 0.5)\n",
    "\n",
    "params = sample_size, dimension, alphabet_size, num_thresholds, num_batches\n",
    "cortical = CORTICAL(params=params,alphas=[1.0, 0.5, 0.1, 0.01], lambda_entropy=0.3,cost_coef=10.0,box_param=box_param)"
   ]
  },
  {
   "cell_type": "code",
   "execution_count": null,
   "metadata": {},
   "outputs": [],
   "source": [
    "quant_points_test = [[-0.75],[0.75]]\n",
    "thresholds_test = [[1.0,0.0]]\n",
    "test_config_high = torch.cat([torch.tensor([20.0]),\n",
    "                              torch.tensor(thresholds_test).view(num_thresholds*(dimension+1)),\n",
    "                              torch.tensor(quant_points_test).view(alphabet_size*dimension)])\n",
    "test_config_midL = torch.cat([torch.tensor([2.0]),\n",
    "                              torch.tensor(thresholds_test).view(num_thresholds*(dimension+1)),\n",
    "                              torch.tensor(quant_points_test).view(alphabet_size*dimension)])\n",
    "test_config_midH = torch.cat([torch.tensor([7.0]),\n",
    "                              torch.tensor(thresholds_test).view(num_thresholds*(dimension+1)),\n",
    "                              torch.tensor(quant_points_test).view(alphabet_size*dimension)])\n",
    "test_config_low = torch.cat([torch.tensor([-10.0]),\n",
    "                             torch.tensor(thresholds_test).view(num_thresholds*(dimension+1)),\n",
    "                              torch.tensor(quant_points_test).view(alphabet_size*dimension)])"
   ]
  },
  {
   "cell_type": "code",
   "execution_count": null,
   "metadata": {},
   "outputs": [],
   "source": [
    "'''\n",
    "verbose: 0 = no printing, 1 = printing epoch number and loss, 2 = printing all updates\n",
    "test_params: None = no printing, test_config = printing MI, Px, and model used per epoch\n",
    "'''\n",
    "set_seed(42)\n",
    "\n",
    "_,_,_ = cortical.train((-10.0,-2.0),epochs=100,subepochs=10,verbose=1,test_params=None)\n",
    "_,_,_ = cortical.train((-2.0,4.0),epochs=100,subepochs=10,verbose=1,test_params=None)\n",
    "_,_,_ = cortical.train((4.0,10.0),epochs=100,subepochs=10,verbose=1,test_params=None)\n",
    "_,_,_ = cortical.train((10.0,20.0),epochs=100,subepochs=10,verbose=1,test_params=None)\n",
    "cortical.save_models('./models/cortical_models')"
   ]
  }
 ],
 "metadata": {
  "kernelspec": {
   "display_name": "base",
   "language": "python",
   "name": "python3"
  },
  "language_info": {
   "codemirror_mode": {
    "name": "ipython",
    "version": 3
   },
   "file_extension": ".py",
   "mimetype": "text/x-python",
   "name": "python",
   "nbconvert_exporter": "python",
   "pygments_lexer": "ipython3",
   "version": "3.12.4"
  }
 },
 "nbformat": 4,
 "nbformat_minor": 2
}

{
 "cells": [
  {
   "cell_type": "code",
   "execution_count": null,
   "metadata": {},
   "outputs": [],
   "source": [
    "import torch\n",
    "import warnings\n",
    "from math import comb\n",
    "import sys\n",
    "import os\n",
    "warnings.filterwarnings('ignore')\n",
    "\n",
    "project_root = os.path.abspath(\"..\")  \n",
    "if project_root not in sys.path:\n",
    "    sys.path.insert(0, project_root)\n",
    "from src.rl_environment import RLEnvironment, defining_environments\n",
    "from src.rl_policy import UnifiedPolicy, Policy\n",
    "from src.cortical_estimator import CORTICAL\n",
    "from src.ba_estimator import MI_ESTIMATOR\n",
    "from src.simulation_runner import runing_sims"
   ]
  },
  {
   "cell_type": "code",
   "execution_count": null,
   "metadata": {},
   "outputs": [],
   "source": [
    "dimension = 2\n",
    "num_thresholds = 4\n",
    "alphabet_size = int(sum(comb(num_thresholds, k) for k in range(dimension + 1)))\n",
    "box_param = 1.5\n",
    "\n",
    "max_steps, patience, norm_patience = 1000, 50, (50,1000)\n",
    "ln_steps, pt_steps = 50, 50\n",
    "mi_est_name = 'BA'\n",
    "\n",
    "channel_type = 'changing-csi-smooth-0.05'\n",
    "if mi_est_name == 'BA': mi_est = MI_ESTIMATOR(dimension, box_param, channel_type,10000)\n",
    "else:\n",
    "    mi_est = CORTICAL((512,dimension,alphabet_size,num_thresholds,10),alphas=[1.0, 0.5, 0.1, 0.01],\n",
    "                  lambda_entropy=0.3,cost_coef=10.0,box_param=box_param)\n",
    "    mi_est.load_models('./models/cortical_models/')\n",
    "\n",
    "thrsh = None\n",
    "if dimension==1.0 and num_thresholds==1: thrsh = torch.tensor([1.0,0.0])\n",
    "elif dimension==1.0 and num_thresholds==2: thrsh = torch.tensor([1.0,-0.5,1.0,0.5])\n",
    "elif dimension==1.0 and num_thresholds==3: thrsh = torch.tensor([1.0,-0.5,1.0,0.0,1.0,0.5])\n",
    "elif dimension==2.0 and num_thresholds==2: thrsh = torch.tensor([1.0,0.0,0.0,0.0,1.0,0.0])\n",
    "elif dimension==2.0 and num_thresholds==3: thrsh = torch.tensor([0.0,1.0,0.0,1.0,0.0,-0.25,1.0,0.0,0.25])\n",
    "elif dimension==2.0 and num_thresholds==4: thrsh = torch.tensor([1.0,0.0,-0.25,1.0,0.0,0.25,0.0,1.0,0.25,0.0,1.0,-0.25])\n",
    "\n",
    "run_id = 'run10'\n",
    "policy = torch.load(f\"./models/policy_models/unified_policy_{mi_est_name}-{dimension}D-{num_thresholds}-{run_id}.pth\")\n",
    "for sim_count in range(10):\n",
    "    runing_sims(dimension,num_thresholds,alphabet_size,box_param,max_steps,patience,norm_patience,ln_steps,pt_steps,policy,mi_est,run_id,sim_count,thrsh)"
   ]
  }
 ],
 "metadata": {
  "kernelspec": {
   "display_name": "base",
   "language": "python",
   "name": "python3"
  },
  "language_info": {
   "codemirror_mode": {
    "name": "ipython",
    "version": 3
   },
   "file_extension": ".py",
   "mimetype": "text/x-python",
   "name": "python",
   "nbconvert_exporter": "python",
   "pygments_lexer": "ipython3",
   "version": "3.12.4"
  }
 },
 "nbformat": 4,
 "nbformat_minor": 2
}
